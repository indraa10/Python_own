{
 "cells": [
  {
   "cell_type": "markdown",
   "metadata": {},
   "source": [
    "# LIST"
   ]
  },
  {
   "cell_type": "code",
   "execution_count": 20,
   "metadata": {},
   "outputs": [
    {
     "name": "stdout",
     "output_type": "stream",
     "text": [
      "length of string: 11\n",
      "index of element $ in list: 7\n",
      "new l1 list :  ['a', 1, 'm', 3, 'o', 7, 0, 'p', '$', '#', 10, 'x', '!', 10, 11, 12]\n",
      "l3: ['a', 1, 'm', 3, 'o', 7, 0, 'p', '$', '#', 10, 'x', '!', 10, 11, 12, 10, 11, 12]\n",
      "l2 []\n",
      "l1 count 0\n",
      "l3 ['a', 1, 'm', 3, 'o', 7, 0, 'p', '$', '#', 'x', '!', 10, 11, 12, 10, 11, 12]\n",
      "['m', 's', 'x', 'y', 'z']\n"
     ]
    }
   ],
   "source": [
    "l1=['a',1,'m',3,'o',0,'p','$','#',10,'x']\n",
    "print(\"length of string:\",len(l1))\n",
    "print(\"index of element $ in list:\",l1.index('$'))\n",
    "l1.append('!')\n",
    "l1.insert(5,7)\n",
    "l2=[10,11,12]\n",
    "l1.extend(l2)\n",
    "print(\"new l1 list : \",l1)\n",
    "l3=l1.copy()+l2.copy()\n",
    "print(\"l3:\",l3)\n",
    "20 in l1\n",
    "l2.clear()\n",
    "print('l2',l2)\n",
    "print(\"l1 count\",l1.count(20))\n",
    "l3.remove(10)\n",
    "print(\"l3\",l3)\n",
    "\n",
    "list1=['a','m','s','x','y','z']\n",
    "list1.remove('a')\n",
    "print(list1)"
   ]
  },
  {
   "cell_type": "markdown",
   "metadata": {},
   "source": [
    "# ARRAY(NUMPY)"
   ]
  },
  {
   "cell_type": "code",
   "execution_count": 6,
   "metadata": {},
   "outputs": [
    {
     "name": "stdout",
     "output_type": "stream",
     "text": [
      "1.14.3\n",
      "[1 2 3 4 5]\n",
      "<class 'numpy.ndarray'>\n",
      "[[1 2 3]\n",
      " [4 5 6]]\n",
      "[[[1 2 3]\n",
      "  [4 5 6]]\n",
      "\n",
      " [[1 2 3]\n",
      "  [4 5 6]]]\n",
      "dimention of array \n",
      " 1. arr : 1 \n",
      " 2. arr2d : 2 \n",
      " 3. arr3d : 3 \n",
      "[[[[[1 2 3 4]]]]]\n",
      "number of dimensions : 5\n",
      "print 2 dimension array 2nd dim  3rd element:  6\n"
     ]
    }
   ],
   "source": [
    "#import numpy\n",
    "import numpy as np\n",
    "#check numpy version\n",
    "print(np.__version__)\n",
    "#1D array declare\n",
    "arr = np.array([1, 2, 3, 4, 5])\n",
    "print(arr)\n",
    "#check type\n",
    "print(type(arr))\n",
    "#2D array declare\n",
    "arr2d = np.array([[1, 2, 3], [4, 5, 6]])\n",
    "print(arr2d) \n",
    "#3d array declare\n",
    "arr3d = np.array([[[1, 2, 3], [4, 5, 6]], [[1, 2, 3], [4, 5, 6]]])\n",
    "print(arr3d) \n",
    "#check dimention of all the mentioned array\n",
    "print(\"dimention of array \\n 1. arr : {} \\n 2. arr2d : {} \\n 3. arr3d : {} \".format(arr.ndim,arr2d.ndim,arr3d.ndim))\n",
    "\n",
    "#creation of 5 dimention array\n",
    "arr5d = np.array([1, 2, 3, 4], ndmin=5)\n",
    "\n",
    "print(arr5d)\n",
    "print('number of dimensions :', arr5d.ndim) \n",
    "#array[dimension,element]\n",
    "print(\"print 2 dimension array 2nd dim  3rd element: \", arr2d[1,2])"
   ]
  },
  {
   "cell_type": "markdown",
   "metadata": {},
   "source": [
    "# STRING"
   ]
  },
  {
   "cell_type": "code",
   "execution_count": 11,
   "metadata": {},
   "outputs": [
    {
     "name": "stdout",
     "output_type": "stream",
     "text": [
      "all upper:  THIS IS STRING OPERATION TEST \n",
      " all lower :  this is string operation test \n",
      " capitalize :  This is string operation test \n",
      " center:       This iS strIng opERation test      \n",
      "encode verson of the string :  b'This iS strIng opERation test'\n"
     ]
    }
   ],
   "source": [
    "s1=\"This iS strIng opERation test\"\n",
    "u=s1.upper()\n",
    "l=s1.lower()\n",
    "c=s1.capitalize()\n",
    "cen=s1.center(40)\n",
    "print(\"all upper: \",u,\"\\n all lower : \",l,\"\\n capitalize : \",c,\"\\n center: \",cen)\n",
    "enc=s1.encode()\n",
    "print(\"encode verson of the string : \",enc)"
   ]
  },
  {
   "cell_type": "markdown",
   "metadata": {},
   "source": [
    "# DICTIONARY"
   ]
  },
  {
   "cell_type": "code",
   "execution_count": null,
   "metadata": {},
   "outputs": [],
   "source": []
  }
 ],
 "metadata": {
  "kernelspec": {
   "display_name": "Python 3",
   "language": "python",
   "name": "python3"
  },
  "language_info": {
   "codemirror_mode": {
    "name": "ipython",
    "version": 3
   },
   "file_extension": ".py",
   "mimetype": "text/x-python",
   "name": "python",
   "nbconvert_exporter": "python",
   "pygments_lexer": "ipython3",
   "version": "3.6.5"
  }
 },
 "nbformat": 4,
 "nbformat_minor": 2
}
