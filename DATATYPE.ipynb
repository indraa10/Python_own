{
 "cells": [
  {
   "cell_type": "markdown",
   "metadata": {},
   "source": [
    "# LIST"
   ]
  },
  {
   "cell_type": "code",
   "execution_count": 20,
   "metadata": {},
   "outputs": [
    {
     "name": "stdout",
     "output_type": "stream",
     "text": [
      "length of string: 11\n",
      "index of element $ in list: 7\n",
      "new l1 list :  ['a', 1, 'm', 3, 'o', 7, 0, 'p', '$', '#', 10, 'x', '!', 10, 11, 12]\n",
      "l3: ['a', 1, 'm', 3, 'o', 7, 0, 'p', '$', '#', 10, 'x', '!', 10, 11, 12, 10, 11, 12]\n",
      "l2 []\n",
      "l1 count 0\n",
      "l3 ['a', 1, 'm', 3, 'o', 7, 0, 'p', '$', '#', 'x', '!', 10, 11, 12, 10, 11, 12]\n",
      "['m', 's', 'x', 'y', 'z']\n"
     ]
    }
   ],
   "source": [
    "l1=['a',1,'m',3,'o',0,'p','$','#',10,'x']\n",
    "print(\"length of string:\",len(l1))\n",
    "print(\"index of element $ in list:\",l1.index('$'))\n",
    "l1.append('!')\n",
    "l1.insert(5,7)\n",
    "l2=[10,11,12]\n",
    "l1.extend(l2)\n",
    "print(\"new l1 list : \",l1)\n",
    "l3=l1.copy()+l2.copy()\n",
    "print(\"l3:\",l3)\n",
    "20 in l1\n",
    "l2.clear()\n",
    "print('l2',l2)\n",
    "print(\"l1 count\",l1.count(20))\n",
    "l3.remove(10)\n",
    "print(\"l3\",l3)\n",
    "\n",
    "list1=['a','m','s','x','y','z']\n",
    "list1.remove('a')\n",
    "print(list1)"
   ]
  },
  {
   "cell_type": "markdown",
   "metadata": {},
   "source": [
    "# ARRAY(NUMPY)"
   ]
  },
  {
   "cell_type": "code",
   "execution_count": 6,
   "metadata": {},
   "outputs": [
    {
     "name": "stdout",
     "output_type": "stream",
     "text": [
      "1.14.3\n",
      "[1 2 3 4 5]\n",
      "<class 'numpy.ndarray'>\n",
      "[[1 2 3]\n",
      " [4 5 6]]\n",
      "[[[1 2 3]\n",
      "  [4 5 6]]\n",
      "\n",
      " [[1 2 3]\n",
      "  [4 5 6]]]\n",
      "dimention of array \n",
      " 1. arr : 1 \n",
      " 2. arr2d : 2 \n",
      " 3. arr3d : 3 \n",
      "[[[[[1 2 3 4]]]]]\n",
      "number of dimensions : 5\n",
      "print 2 dimension array 2nd dim  3rd element:  6\n"
     ]
    }
   ],
   "source": [
    "#import numpy\n",
    "import numpy as np\n",
    "#check numpy version\n",
    "print(np.__version__)\n",
    "#1D array declare\n",
    "arr = np.array([1, 2, 3, 4, 5])\n",
    "print(arr)\n",
    "#check type\n",
    "print(type(arr))\n",
    "#2D array declare\n",
    "arr2d = np.array([[1, 2, 3], [4, 5, 6]])\n",
    "print(arr2d) \n",
    "#3d array declare\n",
    "arr3d = np.array([[[1, 2, 3], [4, 5, 6]], [[1, 2, 3], [4, 5, 6]]])\n",
    "print(arr3d) \n",
    "#check dimention of all the mentioned array\n",
    "print(\"dimention of array \\n 1. arr : {} \\n 2. arr2d : {} \\n 3. arr3d : {} \".format(arr.ndim,arr2d.ndim,arr3d.ndim))\n",
    "\n",
    "#creation of 5 dimention array\n",
    "arr5d = np.array([1, 2, 3, 4], ndmin=5)\n",
    "\n",
    "print(arr5d)\n",
    "print('number of dimensions :', arr5d.ndim) \n",
    "#array[dimension,element]\n",
    "print(\"print 2 dimension array 2nd dim  3rd element: \", arr2d[1,2])"
   ]
  },
  {
   "cell_type": "markdown",
   "metadata": {},
   "source": [
    "# STRING"
   ]
  },
  {
   "cell_type": "code",
   "execution_count": 11,
   "metadata": {},
   "outputs": [
    {
     "name": "stdout",
     "output_type": "stream",
     "text": [
      "all upper:  THIS IS STRING OPERATION TEST \n",
      " all lower :  this is string operation test \n",
      " capitalize :  This is string operation test \n",
      " center:       This iS strIng opERation test      \n",
      "encode verson of the string :  b'This iS strIng opERation test'\n"
     ]
    }
   ],
   "source": [
    "s1=\"This iS strIng opERation test\"\n",
    "u=s1.upper()\n",
    "l=s1.lower()\n",
    "c=s1.capitalize()\n",
    "cen=s1.center(40)\n",
    "print(\"all upper: \",u,\"\\n all lower : \",l,\"\\n capitalize : \",c,\"\\n center: \",cen)\n",
    "enc=s1.encode()\n",
    "print(\"encode verson of the string : \",enc)"
   ]
  },
  {
   "cell_type": "markdown",
   "metadata": {},
   "source": [
    "# DICTIONARY"
   ]
  },
  {
   "cell_type": "code",
   "execution_count": 29,
   "metadata": {},
   "outputs": [
    {
     "name": "stdout",
     "output_type": "stream",
     "text": [
      "d2:  {'manu': 'ferguson', 'bayern': 'kahn', 'real_madrid': 'raul', 'barca': 'messi', 'juventus': 'ronaldo'}\n",
      "print fromkey:  {'k1': 'v1', 'k2': 'v1', 'k3': 'v1'}\n",
      "get value of manu:  ferguson\n",
      "get all items of d1:  dict_items([('manu', 'ferguson'), ('bayern', 'kahn'), ('real_madrid', 'raul'), ('barca', 'messi'), ('juventus', 'ronaldo')])\n",
      "get all keys of d1:  dict_keys(['manu', 'bayern', 'real_madrid', 'barca', 'juventus'])\n",
      "dictionary after removing barca:  {'manu': 'ferguson', 'bayern': 'kahn', 'real_madrid': 'raul', 'juventus': 'ronaldo'}\n",
      "after popitem used , d1 is :  {'manu': 'ferguson', 'bayern': 'kahn', 'real_madrid': 'raul'}\n",
      "{'manu': 'ferguson', 'bayern': 'kahn', 'real_madrid': 'raul'}\n",
      "print d1 after new entry liverpool is updated :  {'manu': 'ferguson', 'bayern': 'kahn', 'real_madrid': 'raul', 'liverpool': 'gerard'}\n",
      "print all d1 values:  dict_values(['ferguson', 'kahn', 'raul', 'gerard'])\n"
     ]
    }
   ],
   "source": [
    "\n",
    "d1={'manu':'ferguson','bayern':'kahn','real_madrid':'raul','barca':'messi','juventus':'ronaldo'}\n",
    "#clear()\n",
    "d2=d1.copy()\n",
    "print(\"d2: \",d2)\n",
    "k=('k1','k2','k3')\n",
    "v=('v1')\n",
    "fk=dict.fromkeys(k,v)\n",
    "print(\"print fromkey: \",fk)\n",
    "print(\"get value of manu: \",d1.get('manu'))\n",
    "\n",
    "print(\"get all items of d1: \",d1.items())\n",
    "print(\"get all keys of d1: \",d1.keys())\n",
    "d1.pop('barca') #mention the key , to which you want to remove\n",
    "print(\"dictionary after removing barca: \",d1)\n",
    "d1.popitem() # last inserted item will be removed\n",
    "print(\"after popitem used , d1 is : \",d1)\n",
    "#d1.setdefault(\"milan\":\"maldini\")\n",
    "print(d1)\n",
    "d1.update({'liverpool':'gerard'})\n",
    "print(\"print d1 after new entry liverpool is updated : \",d1)\n",
    "print(\"print all d1 values: \",d1.values())\n"
   ]
  },
  {
   "cell_type": "code",
   "execution_count": 39,
   "metadata": {},
   "outputs": [
    {
     "name": "stdout",
     "output_type": "stream",
     "text": [
      " value of a is apple.\n"
     ]
    }
   ],
   "source": [
    "dict1={\n",
    "    'a':'apple',\n",
    "    'b':'banana',\n",
    "    'c':'cheery',\n",
    "    'd':'dragon_fruit',\n",
    "}\n",
    "vowel={'a','e','i','o','u'}\n",
    "\n",
    "for k,v in dict1.items():\n",
    "    if k in vowel:\n",
    "        print(\" value of {0} is {1}.\".format(k,dict1[k]))"
   ]
  },
  {
   "cell_type": "code",
   "execution_count": 48,
   "metadata": {},
   "outputs": [
    {
     "name": "stdout",
     "output_type": "stream",
     "text": [
      "after check m dictionary is {'m': 1}\n",
      "after check i dictionary is {'i': 1}\n",
      "after check s dictionary is {'m': 1, 's': 1}\n",
      "after check s dictionary is {'m': 1, 's': 2}\n",
      "after check i dictionary is {'i': 2}\n",
      "after check s dictionary is {'m': 1, 's': 3}\n",
      "after check s dictionary is {'m': 1, 's': 4}\n",
      "after check i dictionary is {'i': 3}\n",
      "after check p dictionary is {'m': 1, 's': 4, 'p': 1}\n",
      "after check p dictionary is {'m': 1, 's': 4, 'p': 2}\n",
      "after check i dictionary is {'i': 4}\n",
      "after check o dictionary is {'i': 4, 'o': 1}\n",
      "after check o dictionary is {'i': 4, 'o': 2}\n",
      "after check a dictionary is {'i': 4, 'o': 2, 'a': 1}\n",
      "after check a dictionary is {'i': 4, 'o': 2, 'a': 2}\n",
      "after check i dictionary is {'i': 5, 'o': 2, 'a': 2}\n",
      "after check i dictionary is {'i': 6, 'o': 2, 'a': 2}\n",
      "for vowel letters i occured 6 times \n",
      "for vowel letters o occured 2 times \n",
      "for vowel letters a occured 2 times \n",
      "for consonand letters m occured 1 times \n",
      "for consonand letters s occured 4 times \n",
      "for consonand letters p occured 2 times \n"
     ]
    }
   ],
   "source": [
    "s1='mississippiooaaii'\n",
    "vowel={'a','e','i','o','u'}\n",
    "dv={}\n",
    "dc={}\n",
    "for i in s1:\n",
    "    if i in vowel:\n",
    "        dv[i]=dv.get(i,0)+1\n",
    "        print(\"after check {} dictionary is {}\".format(i,dv))\n",
    "    else:\n",
    "        dc[i]=dc.get(i,0)+1\n",
    "        print(\"after check {} dictionary is {}\".format(i,dc))\n",
    "for k,v in dv.items():\n",
    "    print(\"for vowel letters {} occured {} times \".format(k,v))\n",
    "for k,v in dc.items():\n",
    "    print(\"for consonand letters {} occured {} times \".format(k,v))\n",
    "        "
   ]
  },
  {
   "cell_type": "code",
   "execution_count": 42,
   "metadata": {},
   "outputs": [
    {
     "ename": "IndentationError",
     "evalue": "unexpected indent (<ipython-input-42-dc24f08471dd>, line 2)",
     "output_type": "error",
     "traceback": [
      "\u001b[1;36m  File \u001b[1;32m\"<ipython-input-42-dc24f08471dd>\"\u001b[1;36m, line \u001b[1;32m2\u001b[0m\n\u001b[1;33m    def LetterCount(str):\u001b[0m\n\u001b[1;37m    ^\u001b[0m\n\u001b[1;31mIndentationError\u001b[0m\u001b[1;31m:\u001b[0m unexpected indent\n"
     ]
    }
   ],
   "source": [
    "   import string\n",
    "    def LetterCount(str):\n",
    "            str= str.lower().strip()\n",
    "            str = str.strip(string.punctuation)\n",
    "            list1=list(str)\n",
    "            lcDict= {}\n",
    "            for l in list1:\n",
    "                    if l.isalpha():\n",
    "                            if l in lcDict:\n",
    "                                    lcDict[l] +=1\n",
    "                            else:\n",
    "                                    lcDict[l]= 1\n",
    "            print lcDict\n",
    "\n",
    "    LetterCount(\"Abracadabra, Monsignor\")"
   ]
  }
 ],
 "metadata": {
  "kernelspec": {
   "display_name": "Python 3",
   "language": "python",
   "name": "python3"
  },
  "language_info": {
   "codemirror_mode": {
    "name": "ipython",
    "version": 3
   },
   "file_extension": ".py",
   "mimetype": "text/x-python",
   "name": "python",
   "nbconvert_exporter": "python",
   "pygments_lexer": "ipython3",
   "version": "3.6.5"
  }
 },
 "nbformat": 4,
 "nbformat_minor": 2
}
